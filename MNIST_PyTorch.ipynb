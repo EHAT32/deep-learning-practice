{
 "cells": [
  {
   "cell_type": "markdown",
   "id": "9797e251",
   "metadata": {},
   "source": [
    "# MNIST на PyTorch"
   ]
  },
  {
   "cell_type": "markdown",
   "id": "e1d3f8ee",
   "metadata": {},
   "source": [
    "Теперь реализуем ту же задачу, но уже используя удобный фреймворк для обучения моделей под названием PyTorch. С ним написание кода будет намного легче, также это поможет нам использовать видеокарту для обучения."
   ]
  },
  {
   "cell_type": "markdown",
   "id": "5175801b",
   "metadata": {},
   "source": [
    "## Данные"
   ]
  },
  {
   "cell_type": "markdown",
   "id": "8a776832",
   "metadata": {},
   "source": [
    "Используем тот же датасет"
   ]
  },
  {
   "cell_type": "code",
   "execution_count": 59,
   "id": "6624da2e",
   "metadata": {},
   "outputs": [],
   "source": [
    "from sklearn.datasets import fetch_openml\n",
    "import os\n",
    "import pandas as pd\n",
    "import numpy as np\n",
    "\n",
    "data_path = 'data/mnist'\n",
    "\n",
    "os.makedirs(data_path, exist_ok=True)\n",
    "\n",
    "# Загружаем MNIST с OpenML\n",
    "X, y = fetch_openml('mnist_784', version=1, return_X_y=True, data_home=data_path)\n",
    "X = X.to_numpy()\n",
    "y_data = pd.Series(y).to_numpy().astype(int)\n",
    "y = np.zeros((y_data.shape[0], np.max(y_data)+1))\n",
    "y[np.arange(y_data.shape[0]), y_data] = 1"
   ]
  },
  {
   "cell_type": "markdown",
   "id": "3deadc4d",
   "metadata": {},
   "source": [
    "Обернём наши данные в класс ```Dataset```, это поможет удобнее работать с данными: разбиение на батчи, разделение на обучение и валидацию. В нашем случае датасет не такой уж и большой и можно загрузить его напрямую."
   ]
  },
  {
   "cell_type": "code",
   "execution_count": 60,
   "id": "f0ef741d",
   "metadata": {},
   "outputs": [],
   "source": [
    "import torch\n",
    "from torch.utils.data import Dataset\n",
    "\n",
    "device = torch.device(\"cuda:0\" if torch.cuda.is_available() else \"cpu\")\n",
    "\n",
    "class MNISTDataset(Dataset):\n",
    "    def __init__(self, data_x, labels):\n",
    "        super().__init__()\n",
    "        self.data_x = torch.from_numpy(data_x).float().to(device)\n",
    "        self.labels = torch.from_numpy(labels).float().to(device)\n",
    "        \n",
    "    def __len__(self):\n",
    "        return self.data_x.shape[0]\n",
    "    \n",
    "    def __getitem__(self, index):\n",
    "        return self.data_x[index], self.labels[index]"
   ]
  },
  {
   "cell_type": "markdown",
   "id": "3ccc9248",
   "metadata": {},
   "source": [
    "Разобьём выборку на обучение и валидацию"
   ]
  },
  {
   "cell_type": "code",
   "execution_count": 61,
   "id": "5ecec528",
   "metadata": {},
   "outputs": [],
   "source": [
    "from torch.utils.data import random_split, DataLoader\n",
    "torch.manual_seed(0) #для воспроизводимости\n",
    "\n",
    "dataset = MNISTDataset(X, y)\n",
    "train, val = random_split(dataset, [0.8, 0.2])\n",
    "\n",
    "batch = 32\n",
    "train_loader = DataLoader(train, batch_size=batch, shuffle=True) #случайные батчи\n",
    "val_loader = DataLoader(val, batch_size=batch, shuffle=True)"
   ]
  },
  {
   "cell_type": "markdown",
   "id": "2862e140",
   "metadata": {},
   "source": [
    "Данные готовы, теперь реализуем нашу модель на PyTorch, только с небольшой поправкой: в pytorch ошибка считается по логитам, то есть по выходам модели до применения softmax. Для инференса можно использовать другую функцию, где уже будет применяться softmax."
   ]
  },
  {
   "cell_type": "markdown",
   "id": "c5030918",
   "metadata": {},
   "source": [
    "## Модель"
   ]
  },
  {
   "cell_type": "code",
   "execution_count": 62,
   "id": "3bf0f3f7",
   "metadata": {},
   "outputs": [],
   "source": [
    "import torch.nn as nn\n",
    "from torch.nn import ReLU\n",
    "\n",
    "class Classifier(nn.Module):\n",
    "    def __init__(self, input_size, hidden_size, output_size, *args, **kwargs):\n",
    "        super().__init__(*args, **kwargs)\n",
    "        self.fcl1 = nn.Linear(in_features=input_size, out_features=hidden_size)\n",
    "        self.fcl2 = nn.Linear(in_features=hidden_size, out_features=output_size)\n",
    "        self.relu = ReLU()\n",
    "        \n",
    "    def forward(self, x):\n",
    "        y = self.fcl1(x)\n",
    "        y = self.relu(y)\n",
    "        y = self.fcl2(y)\n",
    "        return y"
   ]
  },
  {
   "cell_type": "markdown",
   "id": "04ac6391",
   "metadata": {},
   "source": [
    "## Обучение"
   ]
  },
  {
   "cell_type": "code",
   "execution_count": 63,
   "id": "d59676d3",
   "metadata": {},
   "outputs": [],
   "source": [
    "from torch.optim import Adam\n",
    "from torch.nn import CrossEntropyLoss\n",
    "\n",
    "input_size = X.shape[1]\n",
    "hidden_size = 20\n",
    "output_size = 10\n",
    "\n",
    "model = Classifier(input_size, hidden_size, output_size).to(device)\n",
    "\n",
    "optimizer = Adam(params=model.parameters(), lr=3e-4)\n",
    "criterion = CrossEntropyLoss()\n",
    "\n",
    "epoch_num = 1"
   ]
  },
  {
   "cell_type": "code",
   "execution_count": 64,
   "id": "a9dd9dae",
   "metadata": {},
   "outputs": [
    {
     "name": "stderr",
     "output_type": "stream",
     "text": [
      "1750it [00:03, 505.54it/s]\n"
     ]
    }
   ],
   "source": [
    "from tqdm import tqdm\n",
    "\n",
    "train_loss = []\n",
    "val_loss = []\n",
    "val_idx = []\n",
    "\n",
    "val_iter = iter(val_loader)\n",
    "\n",
    "for epoch in range(epoch_num):\n",
    "    model.train()\n",
    "    for i, (inputs, label) in tqdm(enumerate(train_loader)):\n",
    "        optimizer.zero_grad()\n",
    "        outputs = model(inputs)\n",
    "        loss = criterion(outputs, label)\n",
    "        loss.backward()\n",
    "        optimizer.step()\n",
    "        train_loss.append(loss.item())\n",
    "        \n",
    "        if (i+1) % 10 == 0:\n",
    "            model.eval()\n",
    "            \n",
    "            with torch.no_grad():\n",
    "                try:\n",
    "                    inputs_val, labels_val = next(val_iter)\n",
    "                except StopIteration:\n",
    "                    val_iter = iter(val_loader)\n",
    "                    inputs_val, labels_val = next(val_iter)\n",
    "                outputs_val = model(inputs_val)\n",
    "                loss_val = criterion(outputs_val, labels_val)\n",
    "                val_loss.append(loss_val.item())\n",
    "                val_idx.append(i+1)"
   ]
  },
  {
   "cell_type": "code",
   "execution_count": 65,
   "id": "5f86f113",
   "metadata": {},
   "outputs": [
    {
     "data": {
      "image/png": "[encoded data removed]",
      "text/plain": [
       "<Figure size 640x480 with 1 Axes>"
      ]
     },
     "metadata": {},
     "output_type": "display_data"
    }
   ],
   "source": [
    "import matplotlib.pyplot as plt\n",
    "import numpy as np\n",
    "plt.plot(np.arange(len(train_loss)), train_loss, label='train')\n",
    "plt.plot(val_idx, val_loss, label='validation')\n",
    "plt.legend()\n",
    "plt.show()"
   ]
  },
  {
   "cell_type": "markdown",
   "id": "b36b45ba",
   "metadata": {},
   "source": [
    "Если сравнить с наивной реализацией на NumPy, то удалось достичь более устойчивого обучения (меньше шума), при этом за то же число итераций был достигнут более низкий уровень ошибки. Также по времени обучение произошло гораздо быстрее: три секунды против одной минуты."
   ]
  }
 ],
 "metadata": {
  "kernelspec": {
   "display_name": "RL",
   "language": "python",
   "name": "python3"
  },
  "language_info": {
   "codemirror_mode": {
    "name": "ipython",
    "version": 3
   },
   "file_extension": ".py",
   "mimetype": "text/x-python",
   "name": "python",
   "nbconvert_exporter": "python",
   "pygments_lexer": "ipython3",
   "version": "3.11.11"
  }
 },
 "nbformat": 4,
 "nbformat_minor": 5
}
