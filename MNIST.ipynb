{
 "cells": [
  {
   "cell_type": "markdown",
   "id": "e54d985d",
   "metadata": {},
   "source": [
    "# MNIST"
   ]
  },
  {
   "cell_type": "markdown",
   "id": "e4821961",
   "metadata": {},
   "source": [
    "Попробуем реализовать простую нейронную сеть без фрейморков типа PyTorch, используем лишь стандартные библиотеки типа NumPy"
   ]
  },
  {
   "cell_type": "markdown",
   "id": "527549a2",
   "metadata": {},
   "source": [
    "## Данные"
   ]
  },
  {
   "cell_type": "markdown",
   "id": "d5766b45",
   "metadata": {},
   "source": [
    "Возьмём стандартный датасет MNIST"
   ]
  },
  {
   "cell_type": "code",
   "execution_count": 1,
   "id": "a77ce030",
   "metadata": {},
   "outputs": [
    {
     "name": "stdout",
     "output_type": "stream",
     "text": [
      "(70000, 784)\n",
      "(70000,)\n"
     ]
    }
   ],
   "source": [
    "from sklearn.datasets import fetch_openml\n",
    "import os\n",
    "data_path = 'data/mnist'\n",
    "\n",
    "os.makedirs(data_path, exist_ok=True)\n",
    "\n",
    "# Загружаем MNIST с OpenML\n",
    "X, y = fetch_openml('mnist_784', version=1, return_X_y=True, data_home=data_path)\n",
    "\n",
    "print(X.shape)  \n",
    "print(y.shape)"
   ]
  },
  {
   "cell_type": "markdown",
   "id": "f8a9e6fc",
   "metadata": {},
   "source": [
    "Теперь имеем датасет из 700000 изображений размером 28x28, которые вытянуты в вектор. Сперва преобразуем метки в стиле one-hot кодирования"
   ]
  },
  {
   "cell_type": "code",
   "execution_count": 2,
   "id": "ecbacdb4",
   "metadata": {},
   "outputs": [],
   "source": [
    "import pandas as pd\n",
    "import numpy as np\n",
    "\n",
    "y_data = pd.Series(y).to_numpy().astype(int)\n",
    "y = np.zeros((y_data.shape[0], np.max(y_data)+1))\n",
    "y[np.arange(y_data.shape[0]), y_data] = 1"
   ]
  },
  {
   "cell_type": "markdown",
   "id": "0d187995",
   "metadata": {},
   "source": [
    "Сделаем модель с двумя полносвязными слоями. Пусть у нас есть вектор входных признаков размера $1 \\times N$, матрица обучаемых весов $N \\times K$ и вторая матрица $K \\times 10$, где $10$ - количество классов (цифр). Также используем функции активации. После первого слоя исползуем ReLU, а после второго softmax, чтобы преобразовать выход нейронной сети в \"уверенность\" в выборе того или иного класса. Класс будет выбираться как максимум уверенности"
   ]
  },
  {
   "cell_type": "markdown",
   "id": "fa57c1b8",
   "metadata": {},
   "source": [
    "### Функции активации"
   ]
  },
  {
   "cell_type": "markdown",
   "id": "ce2c0d6d",
   "metadata": {},
   "source": [
    "$\\text{ReLU}(x) = \\max(0, x)$"
   ]
  },
  {
   "cell_type": "code",
   "execution_count": 3,
   "id": "925bf85f",
   "metadata": {},
   "outputs": [],
   "source": [
    "def relu(x : np.ndarray) -> np.ndarray:\n",
    "    return np.maximum(x, 0.)"
   ]
  },
  {
   "cell_type": "code",
   "execution_count": 4,
   "id": "8168772c",
   "metadata": {},
   "outputs": [
    {
     "name": "stdout",
     "output_type": "stream",
     "text": [
      "Исходный вектор\n",
      "[[ 18  -8  14  16  13   9   9   7  11   0  10   1   3  16   3  -5  -5  -8\n",
      "   13  18  -9  19  -1 -10   4  -7  -7  13   7   8]\n",
      " [ 10  -9  16   7  15  14   8  17   2  -1  -8  -3   8  -3  16   6   9   6\n",
      "   19  13   7 -10  -6   5   1  -2  -4  13  -5  18]]\n",
      "Вектор после ReLU\n",
      "[[18.  0. 14. 16. 13.  9.  9.  7. 11.  0. 10.  1.  3. 16.  3.  0.  0.  0.\n",
      "  13. 18.  0. 19.  0.  0.  4.  0.  0. 13.  7.  8.]\n",
      " [10.  0. 16.  7. 15. 14.  8. 17.  2.  0.  0.  0.  8.  0. 16.  6.  9.  6.\n",
      "  19. 13.  7.  0.  0.  5.  1.  0.  0. 13.  0. 18.]]\n"
     ]
    }
   ],
   "source": [
    "vec = np.random.randint(low=-10, high=20, size=(2, 30))\n",
    "print(\"Исходный вектор\")\n",
    "print(vec)\n",
    "print(\"Вектор после ReLU\")\n",
    "print(relu(vec))"
   ]
  },
  {
   "cell_type": "markdown",
   "id": "a1388b9e",
   "metadata": {},
   "source": [
    "$\\text{softmax}(x)_i = \\dfrac{\\exp(x_i)}{\\sum\\limits_j \\exp(x_j)}$"
   ]
  },
  {
   "cell_type": "code",
   "execution_count": 5,
   "id": "0db362ed",
   "metadata": {},
   "outputs": [],
   "source": [
    "def softmax(x: np.ndarray) -> np.ndarray:\n",
    "    # x: (batch_size, num_classes)\n",
    "    x_max = np.max(x, axis=-1, keepdims=True)  # (batch_size, 1)\n",
    "    x_exp = np.exp(x - x_max)\n",
    "    denom = np.sum(x_exp, axis=-1, keepdims=True)\n",
    "    return x_exp / denom"
   ]
  },
  {
   "cell_type": "code",
   "execution_count": 6,
   "id": "762b5779",
   "metadata": {},
   "outputs": [
    {
     "name": "stdout",
     "output_type": "stream",
     "text": [
      "Исходный вектор\n",
      "[[ 2 13 -3  0  8  9  8 19 -1  4]\n",
      " [ 1  7 -1 16  3  0  0  5 18 14]]\n",
      "Вектор после ReLU\n",
      "[[4.12937515e-08 2.47242793e-03 2.78235109e-10 5.58850155e-09\n",
      "  1.66590883e-05 4.52840971e-05 1.66590883e-05 9.97448615e-01\n",
      "  2.05589483e-09 3.05121846e-07]\n",
      " [3.58849303e-08 1.44770142e-05 4.85649721e-09 1.17308461e-01\n",
      "  2.65155763e-07 1.32013281e-08 1.32013281e-08 1.95925081e-06\n",
      "  8.66798797e-01 1.58759738e-02]]\n",
      "Проверка, что вычисления верны\n",
      "[1. 1.]\n"
     ]
    }
   ],
   "source": [
    "vec = np.random.randint(low=-10, high=20, size=(2, 10))\n",
    "print(\"Исходный вектор\")\n",
    "print(vec)\n",
    "print(\"Вектор после ReLU\")\n",
    "res = softmax(vec)\n",
    "print(res)\n",
    "print(\"Проверка, что вычисления верны\")\n",
    "print(np.sum(res, axis=-1))"
   ]
  },
  {
   "cell_type": "markdown",
   "id": "fa812fb9",
   "metadata": {},
   "source": [
    "## Сама сеть"
   ]
  },
  {
   "cell_type": "markdown",
   "id": "cdb75423",
   "metadata": {},
   "source": [
    "### Прямой проход"
   ]
  },
  {
   "cell_type": "markdown",
   "id": "9f21ce00",
   "metadata": {},
   "source": [
    "Также добавим сдвиг (bias) после применения каждой из полносвязных сетей"
   ]
  },
  {
   "cell_type": "code",
   "execution_count": 7,
   "id": "fcdd72b0",
   "metadata": {},
   "outputs": [],
   "source": [
    "class Classifier:\n",
    "    def __init__(self, input_size, k, output_size):\n",
    "        self.fcl1 = np.random.randn(input_size, k)\n",
    "        self.b1 = np.random.randn(k)\n",
    "        self.fcl2 = np.random.randn(k, output_size)\n",
    "        self.b2 = np.random.randn(output_size)\n",
    "        \n",
    "    def forward(self, x: np.ndarray) -> np.ndarray:\n",
    "        h1 = x.dot(self.fcl1) + self.b1[np.newaxis, ...]\n",
    "        z1 = relu(h1)\n",
    "        h2 = z1.dot(self.fcl2) + self.b2[np.newaxis, ...]\n",
    "        z2 = softmax(h2)\n",
    "        return z2"
   ]
  },
  {
   "cell_type": "markdown",
   "id": "f50e976a",
   "metadata": {},
   "source": [
    "### Обратный проход"
   ]
  },
  {
   "cell_type": "markdown",
   "id": "2fe4b933",
   "metadata": {},
   "source": [
    "Прежде чем считать обратное распространение ошибки, необходимо определить функцию потерь, которую мы будем минимизировать. Для многоклассовой классификации подходит перекрёстная энтропия:\n",
    "\n",
    "$$\n",
    "    \\mathcal{L}(\\vec{\\hat{y}}, \\vec{y}) = - \\sum\\limits_{i=1}^{k} y_i \\ln(\\hat{y}_i),\n",
    "$$\n",
    "\n",
    "где $\\vec{\\hat{y}}$ - вероятность выбора класса для каждого из классов (вектор длины 10), а $\\vec{y}$ -- настоящая one-hot метка. Обучаться и считать ошибку мы будем на случайных наборах (батчах), поэтому ошибку нужно будет усреднять по всем предсказаниям"
   ]
  },
  {
   "cell_type": "code",
   "execution_count": 8,
   "id": "01e7b747",
   "metadata": {},
   "outputs": [],
   "source": [
    "def loss(y_pred: np.ndarray, y_true: np.ndarray) -> np.ndarray:\n",
    "    eps = 1e-12\n",
    "    y_pred = np.clip(y_pred, eps, 1 - eps)\n",
    "    res = -1 * np.sum((np.log(y_pred) * y_true), axis=-1)\n",
    "    return np.mean(res)"
   ]
  },
  {
   "cell_type": "markdown",
   "id": "ebca6ca6",
   "metadata": {},
   "source": [
    "Посмотрим, как будет изменяться градиент ошибки, используем цепное правило."
   ]
  },
  {
   "cell_type": "markdown",
   "id": "0f8e0e88",
   "metadata": {},
   "source": [
    "$$\n",
    "    \\dfrac{\\partial \\mathcal{L}}{\\partial \\hat{y}_i} = - \\dfrac{y_i}{\\hat{y}_i}\n",
    "$$\n",
    "\n",
    "$\\vec{\\hat{y}} = \\text{softmax}(\\vec{z})$\n",
    "\n",
    "Теперь посчитаем\n",
    "\n",
    "$$\n",
    "    \\dfrac{\\partial \\hat{y}_i}{\\partial{z_j}}\n",
    "$$\n",
    "\n",
    "Два случая:\n",
    "\n",
    "* $i = j$\n",
    "\n",
    "$$\n",
    "    \\dfrac{\\partial \\hat{y}_i}{\\partial{z_i}} = \\dfrac{\\partial}{\\partial z_i} \\dfrac{e^{z_i}}{\\sum_k e^{z_k}} = \\dfrac{e^{z_i} \\sum_k e^{z_k} - e^{2z_i}}{\\left( \\sum_k e^{z_k} \\right)^2} = \\hat{y}_i (1 - \\hat{y}_i)\n",
    "$$\n",
    "\n",
    "* $i \\neq j$\n",
    "\n",
    "$$\n",
    "    \\dfrac{\\partial \\hat{y}_i}{\\partial{z_j}} = \\dfrac{\\partial}{\\partial z_j} \\dfrac{e^{z_i}}{\\sum_k e^{z_k}} = - \\dfrac{e^{z_i}}{\\left( \\sum_k e^{z_k} \\right)^2} e^{z_j} = - \\hat{y}_i \\hat{y_j}\n",
    "$$\n",
    "\n",
    "Тогда градиент ошибки по логитам:\n",
    "\n",
    "$$\n",
    "    \\dfrac{\\partial\\mathcal{L}}{\\partial z_j} = \\sum\\limits_{i=1}^{K=10}\\dfrac{\\partial \\mathcal{L}}{\\partial \\hat{y}_i} \\dfrac{\\partial \\hat{y}_i}{\\partial z_j} = - \\sum\\limits_{i=1}^{K=10} \\dfrac{y_i}{\\hat{y}_i}\\dfrac{\\partial \\hat{y}_i}{\\partial z_j}\n",
    "$$\n",
    "\n",
    "Разобьём сумму на те два \n",
    "\n",
    "$$\n",
    "    \\dfrac{\\partial\\mathcal{L}}{\\partial z_j} = - \\dfrac{y_j}{\\hat{y}_j} \\hat{y}_j (1 - \\hat{y}_j) + \\sum\\limits_{i\\neq j}^{K} \\dfrac{y_i}{\\hat{y}_i} \\hat{y}_j \\hat{y}_i = (\\hat{y}_j - 1)y_j + \\hat{y}_j \\sum\\limits_{i\\neq j}^{K} y_i\n",
    "$$\n",
    "\n",
    "Если $\\sum\\limits_{i=1}^K y_i = 1$, то $\\sum\\limits_{i \\neq j}^K y_i = 1 - y_j$\n",
    "\n",
    "$$\n",
    "    \\dfrac{\\partial\\mathcal{L}}{\\partial z_j} = (\\hat{y}_j - 1)y_j + \\hat{y}_j (1 - y_j) = \\hat{y}_j y_j - y_j + \\hat{y}_j - \\hat{y}_j y_j = \\hat{y}_j - y_j\n",
    "$$\n",
    "\n",
    "Получается, что это просто разность двух векторов: one-hot метки и нашего предсказания. Градиент по логитам это разность двух векторов, теперь надо найти градиенты для $W_2$ и $b_2$\n"
   ]
  },
  {
   "cell_type": "markdown",
   "id": "b35b7df8",
   "metadata": {},
   "source": [
    "$$\n",
    "    z = h W_2 + b_2\n",
    "$$\n",
    "\n",
    "Сперва найдём градиент по $b_2$, он довольно простой:\n",
    "\n",
    "$$\n",
    "    \\dfrac{\\partial z_i}{\\partial b_{2j}} = \\delta_{ij},\n",
    "$$\n",
    "\n",
    "где $\\delta_{ij}$ - символ Кронекера, то есть градиент по $z$ преобразуется в градиент по $b_2$ тождественным преобразованием и просто равен градиенту по $z$\n",
    "\n",
    "$$\n",
    "    \\nabla_{b_2} \\mathcal{L} = \\nabla_z \\mathcal{L}\n",
    "$$\n",
    "\n",
    "Теперь нам нужно посчитать производную по $W_2$. Производная от $h W$ по $W$ равна просто $h$, чтобы преобразовать градиент по $z$ в градиент по $W$, необходимо умножить на сопряжённую производную, то есть $$\\nabla_{W_2} \\mathcal{L} = h^{T} \\nabla_z \\mathcal{L}$$"
   ]
  },
  {
   "cell_type": "markdown",
   "id": "dba31517",
   "metadata": {},
   "source": [
    "Осталось посчитать производные по $W_1$ и $b_1$, напомним, что $h = \\text{ReLU}\\left( XW_1 + b_1 \\right)$. Производная ReLU считается поэлементно и это просто маска: если элемент больше нуля, то этот элемент производной равен 1, если меньше либо равен нуля, то равен 0. \n",
    "\n",
    "$$\n",
    "    \\text{ReLU}'(x) = \n",
    "    \\begin{cases}\n",
    "        1, x > 0 \\\\\n",
    "        0, x \\leq 0\n",
    "    \\end{cases}\n",
    "$$\n",
    "\n",
    "Производная $z$ по $h$ это $W_2$, значит $\\nabla_{h} \\mathcal{L} = (\\nabla_z \\mathcal{L}) W_2^T$, который мы умножаем поэлементно на производную от ReLU (Обозначим как маску $M$): $M \\odot (\\nabla_z \\mathcal{L}) W_2^T$. Градиент по b_1 опять не изменяется и равен \n",
    "$$\\nabla_{b_1} \\mathcal{L} = M \\odot (\\nabla_z \\mathcal{L}) W_2^T$$"
   ]
  },
  {
   "cell_type": "markdown",
   "id": "dd7b9ac6",
   "metadata": {},
   "source": [
    "И наконец градиент по $W_1$ аналогично градиенту по $W_2$:\n",
    "\n",
    "$$\n",
    "    \\nabla_{W_1} \\mathcal{L} = X^T \\left( M \\odot (\\nabla_z \\mathcal{L}) W_2^T \\right)\n",
    "$$"
   ]
  },
  {
   "cell_type": "markdown",
   "id": "7525fdd4",
   "metadata": {},
   "source": [
    "Теперь мы можем всё это реализовать в коде, но необходимо модифицировать класс нейронной сети, чтобы она могла запомнить промежуточные вычисления между слоями. Также не забудем сделать усреднение по батчу (по первой оси)"
   ]
  },
  {
   "cell_type": "code",
   "execution_count": 9,
   "metadata": {},
   "outputs": [],
   "source": [
    "class Classifier:\n",
    "    def __init__(self, input_size, k, output_size, lr=3e-4):\n",
    "        self.fcl1 = np.random.randn(input_size, k)\n",
    "        self.b1 = np.random.randn(k)\n",
    "        self.fcl2 = np.random.randn(k, output_size)\n",
    "        self.b2 = np.random.randn(output_size)\n",
    "        self.lr = lr\n",
    "        \n",
    "    def forward(self, x: np.ndarray, train = True) -> np.ndarray:\n",
    "        if train:\n",
    "            self.X = x\n",
    "        h = x.dot(self.fcl1) + self.b1#[np.newaxis, ...]\n",
    "        if train:\n",
    "            self.M = h > 0\n",
    "            self.M = self.M.astype(int)\n",
    "        h = relu(h)\n",
    "        if train:\n",
    "            self.h = np.copy(h)\n",
    "            self.W_2 = np.copy(self.fcl2)\n",
    "        z = h.dot(self.fcl2) + self.b2#[np.newaxis, ...]\n",
    "        z = softmax(z)\n",
    "        return z\n",
    "    \n",
    "    def backprop(self, y_pred, y_true):\n",
    "        dz = y_pred - y_true\n",
    "        if len(dz.shape) > 2:\n",
    "            dz = np.squeeze(dz)\n",
    "        batch_size = dz.shape[0]\n",
    "        db_2 = np.mean(dz, axis=0)\n",
    "        dW_2 = self.h.T.dot(dz) / batch_size\n",
    "        dh_masked = self.M * (dz.dot(self.W_2.T))\n",
    "        db_1 = np.mean(dh_masked, axis=0)\n",
    "        dW_1 = self.X.T.dot(dh_masked) / batch_size\n",
    "        self.update_weights(dW_1, db_1, dW_2, db_2)\n",
    "        \n",
    "    def update_weights(self, dW_1, db_1, dW_2, db_2):\n",
    "        self.fcl1 = self.fcl1 - self.lr * dW_1\n",
    "        self.b1 = self.b1 - self.lr * db_1\n",
    "        self.fcl2 = self.fcl2 - self.lr * dW_2\n",
    "        self.b2 = self.b2 - self.lr * db_2\n",
    "        \n",
    "    def reset(self):\n",
    "        self.X = None\n",
    "        self.M = None\n",
    "        self.h = None\n",
    "        self.W_2 = None        \n",
    "        "
   ]
  },
  {
   "cell_type": "markdown",
   "id": "0e510c23",
   "metadata": {},
   "source": [
    "Теперь можем попробовать обучить нашу модель на случайном батче"
   ]
  },
  {
   "cell_type": "code",
   "execution_count": 10,
   "id": "3133e8f3",
   "metadata": {},
   "outputs": [],
   "source": [
    "X = X.to_numpy()"
   ]
  },
  {
   "cell_type": "code",
   "execution_count": 11,
   "id": "5e8de976",
   "metadata": {},
   "outputs": [],
   "source": [
    "from sklearn.model_selection import train_test_split"
   ]
  },
  {
   "cell_type": "code",
   "execution_count": 12,
   "id": "1e395ac3",
   "metadata": {},
   "outputs": [],
   "source": [
    "X_train, X_test, y_train, y_test = train_test_split(X, y, test_size=0.2, random_state=0)"
   ]
  },
  {
   "cell_type": "code",
   "execution_count": 13,
   "id": "aa5bc73e",
   "metadata": {},
   "outputs": [],
   "source": [
    "np.random.seed(0)\n",
    "def get_batches(X, y, batch_size):\n",
    "    n_samples = X.shape[0]\n",
    "    indices = np.arange(n_samples)\n",
    "    np.random.shuffle(indices)\n",
    "    \n",
    "    for start_idx in range(0, n_samples, batch_size):\n",
    "        end_idx = min(start_idx + batch_size, n_samples)\n",
    "        batch_indices = indices[start_idx:end_idx]\n",
    "        yield X[batch_indices], y[batch_indices]"
   ]
  },
  {
   "cell_type": "code",
   "execution_count": 14,
   "id": "e744abaa",
   "metadata": {},
   "outputs": [],
   "source": [
    "from tqdm import tqdm"
   ]
  },
  {
   "cell_type": "code",
   "execution_count": 15,
   "id": "0f28c95c",
   "metadata": {},
   "outputs": [
    {
     "name": "stderr",
     "output_type": "stream",
     "text": [
      "1750it [01:11, 24.60it/s]\n"
     ]
    }
   ],
   "source": [
    "batch_size = 32\n",
    "cls = Classifier(input_size=X.shape[1], k=20, output_size=10, lr=3e-4)\n",
    "train_loss = []\n",
    "test_loss = []\n",
    "\n",
    "for X_batch, y_batch in tqdm(get_batches(X_train, y_train, batch_size)):\n",
    "    # 1. Прямой проход на батче (train=True)\n",
    "    y_pred = cls.forward(X_batch, train=True)\n",
    "    train_loss.append(loss(y_pred, y_batch))\n",
    "    # 2. Обратный проход\n",
    "    cls.backprop(y_pred, y_batch)\n",
    "    # 3. Прямой проход на тесте (train=False)\n",
    "    test_loss.append(loss(cls.forward(X_test, train=False), y_test))\n"
   ]
  },
  {
   "cell_type": "code",
   "execution_count": 16,
   "id": "d938445a",
   "metadata": {},
   "outputs": [
    {
     "data": {
      "image/png": "[encoded data removed]",
      "text/plain": [
       "<Figure size 640x480 with 1 Axes>"
      ]
     },
     "metadata": {},
     "output_type": "display_data"
    }
   ],
   "source": [
    "import matplotlib.pyplot as plt\n",
    "\n",
    "plt.plot(np.arange(len(train_loss)), train_loss, label='train')\n",
    "plt.plot(np.arange(len(test_loss)), test_loss, label='test')\n",
    "plt.legend()\n",
    "plt.show()"
   ]
  }
 ],
 "metadata": {
  "kernelspec": {
   "display_name": "base",
   "language": "python",
   "name": "python3"
  },
  "language_info": {
   "codemirror_mode": {
    "name": "ipython",
    "version": 3
   },
   "file_extension": ".py",
   "mimetype": "text/x-python",
   "name": "python",
   "nbconvert_exporter": "python",
   "pygments_lexer": "ipython3",
   "version": "3.12.3"
  }
 },
 "nbformat": 4,
 "nbformat_minor": 5
}
