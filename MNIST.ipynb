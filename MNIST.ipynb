{
 "cells": [
  {
   "cell_type": "markdown",
   "id": "e54d985d",
   "metadata": {},
   "source": [
    "# MNIST"
   ]
  },
  {
   "cell_type": "markdown",
   "id": "e4821961",
   "metadata": {},
   "source": [
    "Попробуем реализовать простую нейронную сеть без фрейморков типа PyTorch, используем лишь стандартные библиотеки типа NumPy"
   ]
  },
  {
   "cell_type": "markdown",
   "id": "527549a2",
   "metadata": {},
   "source": [
    "## Данные"
   ]
  },
  {
   "cell_type": "markdown",
   "id": "d5766b45",
   "metadata": {},
   "source": [
    "Возьмём стандартный датасет MNIST"
   ]
  },
  {
   "cell_type": "code",
   "execution_count": 167,
   "id": "a77ce030",
   "metadata": {},
   "outputs": [
    {
     "name": "stdout",
     "output_type": "stream",
     "text": [
      "(70000, 784)\n",
      "(70000,)\n"
     ]
    }
   ],
   "source": [
    "from sklearn.datasets import fetch_openml\n",
    "import os\n",
    "data_path = 'data/mnist'\n",
    "\n",
    "os.makedirs(data_path, exist_ok=True)\n",
    "\n",
    "# Загружаем MNIST с OpenML\n",
    "X, y = fetch_openml('mnist_784', version=1, return_X_y=True, data_home=data_path)\n",
    "\n",
    "print(X.shape)  \n",
    "print(y.shape)"
   ]
  },
  {
   "cell_type": "markdown",
   "id": "f8a9e6fc",
   "metadata": {},
   "source": [
    "Теперь имеем датасет из 700000 изображений размером 28x28, которые вытянуты в вектор. Сперва преобразуем метки в стиле one-hot кодирования"
   ]
  },
  {
   "cell_type": "code",
   "execution_count": 168,
   "id": "ecbacdb4",
   "metadata": {},
   "outputs": [],
   "source": [
    "import pandas as pd\n",
    "import numpy as np\n",
    "\n",
    "y_data = pd.Series(y).to_numpy().astype(int)\n",
    "y = np.zeros((y_data.shape[0], np.max(y_data)+1))\n",
    "y[np.arange(y_data.shape[0]), y_data] = 1"
   ]
  },
  {
   "cell_type": "markdown",
   "id": "0d187995",
   "metadata": {},
   "source": [
    "Сделаем модель с двумя полносвязными слоями. Пусть у нас есть вектор входных признаков размера $1 \\times N$, матрица обучаемых весов $N \\times K$ и вторая матрица $K \\times 10$, где $10$ - количество классов (цифр). Также используем функции активации. После первого слоя исползуем ReLU, а после второго softmax, чтобы преобразовать выход нейронной сети в \"уверенность\" в выборе того или иного класса. Класс будет выбираться как максимум уверенности"
   ]
  },
  {
   "cell_type": "markdown",
   "id": "fa57c1b8",
   "metadata": {},
   "source": [
    "### Функции активации"
   ]
  },
  {
   "cell_type": "markdown",
   "id": "ce2c0d6d",
   "metadata": {},
   "source": [
    "$\\text{ReLU}(x) = \\max(0, x)$"
   ]
  },
  {
   "cell_type": "code",
   "execution_count": 169,
   "id": "925bf85f",
   "metadata": {},
   "outputs": [],
   "source": [
    "def relu(x : np.ndarray) -> np.ndarray:\n",
    "    return np.maximum(x, 0.)"
   ]
  },
  {
   "cell_type": "code",
   "execution_count": 170,
   "id": "8168772c",
   "metadata": {},
   "outputs": [
    {
     "name": "stdout",
     "output_type": "stream",
     "text": [
      "Исходный вектор\n",
      "[[ 19  18  -2  -3  15  16  -3  18  -5   7  19  14  13  10  14  14  -9  -5\n",
      "   14  -5   7  -9   0  -9  -7  18  -7  -5   0  10]\n",
      " [ 17   7   6  -2   9  10  -9  13   1   5  18  14   9  18  -3  -7  14  -5\n",
      "    3  -4  -7  19 -10  -4  -2   5  18 -10   6  16]]\n",
      "Вектор после ReLU\n",
      "[[19. 18.  0.  0. 15. 16.  0. 18.  0.  7. 19. 14. 13. 10. 14. 14.  0.  0.\n",
      "  14.  0.  7.  0.  0.  0.  0. 18.  0.  0.  0. 10.]\n",
      " [17.  7.  6.  0.  9. 10.  0. 13.  1.  5. 18. 14.  9. 18.  0.  0. 14.  0.\n",
      "   3.  0.  0. 19.  0.  0.  0.  5. 18.  0.  6. 16.]]\n"
     ]
    }
   ],
   "source": [
    "vec = np.random.randint(low=-10, high=20, size=(2, 30))\n",
    "print(\"Исходный вектор\")\n",
    "print(vec)\n",
    "print(\"Вектор после ReLU\")\n",
    "print(relu(vec))"
   ]
  },
  {
   "cell_type": "markdown",
   "id": "a1388b9e",
   "metadata": {},
   "source": [
    "$\\text{softmax}(x)_i = \\dfrac{\\exp(x_i)}{\\sum\\limits_j \\exp(x_j)}$"
   ]
  },
  {
   "cell_type": "code",
   "execution_count": 171,
   "id": "0db362ed",
   "metadata": {},
   "outputs": [],
   "source": [
    "def softmax(x: np.ndarray) -> np.ndarray:\n",
    "    # x: (batch_size, num_classes)\n",
    "    x_max = np.max(x, axis=-1, keepdims=True)  # (batch_size, 1)\n",
    "    x_exp = np.exp(x - x_max)\n",
    "    denom = np.sum(x_exp, axis=-1, keepdims=True)\n",
    "    return x_exp / denom"
   ]
  },
  {
   "cell_type": "code",
   "execution_count": 172,
   "id": "762b5779",
   "metadata": {},
   "outputs": [
    {
     "name": "stdout",
     "output_type": "stream",
     "text": [
      "Исходный вектор\n",
      "[[ -2  -4  -7   2   0  -3 -10   5  15  15]\n",
      " [ -7  19  10  12  17   1  10  13  -2  -7]]\n",
      "Вектор после ReLU\n",
      "[[2.06991915e-08 2.80133095e-09 1.39470055e-10 1.13013756e-06\n",
      "  1.52947487e-07 7.61480701e-09 6.94380518e-12 2.26994198e-05\n",
      "  4.99987993e-01 4.99987993e-01]\n",
      " [4.48569908e-12 8.77984129e-01 1.08351849e-04 8.00617893e-04\n",
      "  1.18822231e-01 1.33716805e-08 1.08351849e-04 2.17630507e-03\n",
      "  6.65736771e-10 4.48569908e-12]]\n",
      "Проверка, что вычисления верны\n",
      "[1. 1.]\n"
     ]
    }
   ],
   "source": [
    "vec = np.random.randint(low=-10, high=20, size=(2, 10))\n",
    "print(\"Исходный вектор\")\n",
    "print(vec)\n",
    "print(\"Вектор после ReLU\")\n",
    "res = softmax(vec)\n",
    "print(res)\n",
    "print(\"Проверка, что вычисления верны\")\n",
    "print(np.sum(res, axis=-1))"
   ]
  },
  {
   "cell_type": "markdown",
   "id": "fa812fb9",
   "metadata": {},
   "source": [
    "## Сама сеть"
   ]
  },
  {
   "cell_type": "markdown",
   "id": "cdb75423",
   "metadata": {},
   "source": [
    "### Прямой проход"
   ]
  },
  {
   "cell_type": "markdown",
   "id": "9f21ce00",
   "metadata": {},
   "source": [
    "Также добавим сдвиг (bias) после применения каждой из полносвязных сетей"
   ]
  },
  {
   "cell_type": "code",
   "execution_count": 173,
   "id": "fcdd72b0",
   "metadata": {},
   "outputs": [],
   "source": [
    "class Classifier:\n",
    "    def __init__(self, input_size, k, output_size):\n",
    "        self.fcl1 = np.random.randn(input_size, k)\n",
    "        self.b1 = np.random.randn(k)\n",
    "        self.fcl2 = np.random.randn(k, output_size)\n",
    "        self.b2 = np.random.randn(output_size)\n",
    "        \n",
    "    def forward(self, x: np.ndarray) -> np.ndarray:\n",
    "        h1 = x.dot(self.fcl1) + self.b1[np.newaxis, ...]\n",
    "        z1 = relu(h1)\n",
    "        h2 = z1.dot(self.fcl2) + self.b2[np.newaxis, ...]\n",
    "        z2 = softmax(h2)\n",
    "        return z2"
   ]
  },
  {
   "cell_type": "markdown",
   "id": "f50e976a",
   "metadata": {},
   "source": [
    "### Обратный проход"
   ]
  },
  {
   "cell_type": "markdown",
   "id": "2fe4b933",
   "metadata": {},
   "source": [
    "Прежде чем считать обратное распространение ошибки, необходимо определить функцию потерь, которую мы будем минимизировать. Для многоклассовой классификации подходит перекрёстная энтропия:\n",
    "\n",
    "$$\n",
    "    \\mathcal{L}(\\vec{\\hat{y}}, \\vec{y}) = - \\sum\\limits_{i=1}^{k} y_i \\ln(\\hat{y}_i),\n",
    "$$\n",
    "\n",
    "где $\\vec{\\hat{y}}$ - вероятность выбора класса для каждого из классов (вектор длины 10), а $\\vec{y}$ -- настоящая one-hot метка. Обучаться и считать ошибку мы будем на случайных наборах (батчах), поэтому ошибку нужно будет усреднять по всем предсказаниям"
   ]
  },
  {
   "cell_type": "code",
   "execution_count": 174,
   "id": "01e7b747",
   "metadata": {},
   "outputs": [],
   "source": [
    "def loss(y_pred: np.ndarray, y_true: np.ndarray) -> np.ndarray:\n",
    "    eps = 1e-12\n",
    "    y_pred = np.clip(y_pred, eps, 1 - eps)\n",
    "    res = -1 * np.sum((np.log(y_pred) * y_true), axis=-1)\n",
    "    return np.mean(res)"
   ]
  },
  {
   "cell_type": "markdown",
   "id": "ebca6ca6",
   "metadata": {},
   "source": [
    "Посмотрим, как будет изменяться градиент ошибки, используем цепное правило."
   ]
  },
  {
   "cell_type": "markdown",
   "id": "0f8e0e88",
   "metadata": {},
   "source": [
    "$$\n",
    "    \\dfrac{\\partial \\mathcal{L}}{\\partial \\hat{y}_i} = - \\dfrac{y_i}{\\hat{y}_i}\n",
    "$$\n",
    "\n",
    "$\\vec{\\hat{y}} = \\text{softmax}(\\vec{z})$\n",
    "\n",
    "Теперь посчитаем\n",
    "\n",
    "$$\n",
    "    \\dfrac{\\partial \\hat{y}_i}{\\partial{z_j}}\n",
    "$$\n",
    "\n",
    "Два случая:\n",
    "\n",
    "* $i = j$\n",
    "\n",
    "$$\n",
    "    \\dfrac{\\partial \\hat{y}_i}{\\partial{z_i}} = \\dfrac{\\partial}{\\partial z_i} \\dfrac{e^{z_i}}{\\sum_k e^{z_k}} = \\dfrac{e^{z_i} \\sum_k e^{z_k} - e^{2z_i}}{\\left( \\sum_k e^{z_k} \\right)^2} = \\hat{y}_i (1 - \\hat{y}_i)\n",
    "$$\n",
    "\n",
    "* $i \\neq j$\n",
    "\n",
    "$$\n",
    "    \\dfrac{\\partial \\hat{y}_i}{\\partial{z_j}} = \\dfrac{\\partial}{\\partial z_j} \\dfrac{e^{z_i}}{\\sum_k e^{z_k}} = - \\dfrac{e^{z_i}}{\\left( \\sum_k e^{z_k} \\right)^2} e^{z_j} = - \\hat{y}_i \\hat{y_j}\n",
    "$$\n",
    "\n",
    "Тогда градиент ошибки по логитам:\n",
    "\n",
    "$$\n",
    "    \\dfrac{\\partial\\mathcal{L}}{\\partial z_j} = \\sum\\limits_{i=1}^{K=10}\\dfrac{\\partial \\mathcal{L}}{\\partial \\hat{y}_i} \\dfrac{\\partial \\hat{y}_i}{\\partial z_j} = - \\sum\\limits_{i=1}^{K=10} \\dfrac{y_i}{\\hat{y}_i}\\dfrac{\\partial \\hat{y}_i}{\\partial z_j}\n",
    "$$\n",
    "\n",
    "Разобьём сумму на те два \n",
    "\n",
    "$$\n",
    "    \\dfrac{\\partial\\mathcal{L}}{\\partial z_j} = - \\dfrac{y_j}{\\hat{y}_j} \\hat{y}_j (1 - \\hat{y}_j) + \\sum\\limits_{i\\neq j}^{K} \\dfrac{y_i}{\\hat{y}_i} \\hat{y}_j \\hat{y}_i = (\\hat{y}_j - 1)y_j + \\hat{y}_j \\sum\\limits_{i\\neq j}^{K} y_i\n",
    "$$\n",
    "\n",
    "Если $\\sum\\limits_{i=1}^K y_i = 1$, то $\\sum\\limits_{i \\neq j}^K y_i = 1 - y_j$\n",
    "\n",
    "$$\n",
    "    \\dfrac{\\partial\\mathcal{L}}{\\partial z_j} = (\\hat{y}_j - 1)y_j + \\hat{y}_j (1 - y_j) = \\hat{y}_j y_j - y_j + \\hat{y}_j - \\hat{y}_j y_j = \\hat{y}_j - y_j\n",
    "$$\n",
    "\n",
    "Получается, что это просто разность двух векторов: one-hot метки и нашего предсказания. Градиент по логитам это разность двух векторов, теперь надо найти градиенты для $W_2$ и $b_2$\n"
   ]
  },
  {
   "cell_type": "markdown",
   "id": "b35b7df8",
   "metadata": {},
   "source": [
    "$$\n",
    "    z = h W_2 + b_2\n",
    "$$\n",
    "\n",
    "Сперва найдём градиент по $b_2$, он довольно простой:\n",
    "\n",
    "$$\n",
    "    \\dfrac{\\partial z_i}{\\partial b_{2j}} = \\delta_{ij},\n",
    "$$\n",
    "\n",
    "где $\\delta_{ij}$ - символ Кронекера, то есть градиент по $z$ преобразуется в градиент по $b_2$ тождественным преобразованием и просто равен градиенту по $z$\n",
    "\n",
    "$$\n",
    "    \\nabla_{b_2} \\mathcal{L} = \\nabla_z \\mathcal{L}\n",
    "$$\n",
    "\n",
    "Теперь нам нужно посчитать производную по $W_2$. Производная от $h W$ по $W$ равна просто $h$, чтобы преобразовать градиент по $z$ в градиент по $W$, необходимо умножить на сопряжённую производную, то есть $$\\nabla_{W_2} \\mathcal{L} = h^{T} \\nabla_z \\mathcal{L}$$"
   ]
  },
  {
   "cell_type": "markdown",
   "id": "dba31517",
   "metadata": {},
   "source": [
    "Осталось посчитать производные по $W_1$ и $b_1$, напомним, что $h = \\text{ReLU}\\left( XW_1 + b_1 \\right)$. Производная ReLU считается поэлементно и это просто маска: если элемент больше нуля, то этот элемент производной равен 1, если меньше либо равен нуля, то равен 0. \n",
    "\n",
    "$$\n",
    "    \\text{ReLU}'(x) = \n",
    "    \\begin{cases}\n",
    "        1, x > 0 \\\\\n",
    "        0, x \\leq 0\n",
    "    \\end{cases}\n",
    "$$\n",
    "\n",
    "Производная $z$ по $h$ это $W_2$, значит $\\nabla_{h} \\mathcal{L} = (\\nabla_z \\mathcal{L}) W_2^T$, который мы умножаем поэлементно на производную от ReLU (Обозначим как маску $M$): $M \\odot (\\nabla_z \\mathcal{L}) W_2^T$. Градиент по b_1 опять не изменяется и равен \n",
    "$$\\nabla_{b_1} \\mathcal{L} = M \\odot (\\nabla_z \\mathcal{L}) W_2^T$$"
   ]
  },
  {
   "cell_type": "markdown",
   "id": "dd7b9ac6",
   "metadata": {},
   "source": [
    "И наконец градиент по $W_1$ аналогично градиенту по $W_2$:\n",
    "\n",
    "$$\n",
    "    \\nabla_{W_1} \\mathcal{L} = X^T \\left( M \\odot (\\nabla_z \\mathcal{L}) W_2^T \\right)\n",
    "$$"
   ]
  },
  {
   "cell_type": "markdown",
   "id": "7525fdd4",
   "metadata": {},
   "source": [
    "Теперь мы можем всё это реализовать в коде, но необходимо модифицировать класс нейронной сети, чтобы она могла запомнить промежуточные вычисления между слоями. Также не забудем сделать усреднение по батчу (по первой оси)"
   ]
  },
  {
   "cell_type": "code",
   "execution_count": 175,
   "metadata": {},
   "outputs": [],
   "source": [
    "class Classifier:\n",
    "    def __init__(self, input_size, k, output_size, lr=3e-4):\n",
    "        self.fcl1 = np.random.randn(input_size, k)\n",
    "        self.b1 = np.random.randn(k)\n",
    "        self.fcl2 = np.random.randn(k, output_size)\n",
    "        self.b2 = np.random.randn(output_size)\n",
    "        self.lr = lr\n",
    "        \n",
    "    def forward(self, x: np.ndarray, train = True) -> np.ndarray:\n",
    "        if train:\n",
    "            self.X = x\n",
    "        h = x.dot(self.fcl1) + self.b1#[np.newaxis, ...]\n",
    "        if train:\n",
    "            self.M = h > 0\n",
    "            self.M = self.M.astype(int)\n",
    "        h = relu(h)\n",
    "        if train:\n",
    "            self.h = np.copy(h)\n",
    "            self.W_2 = np.copy(self.fcl2)\n",
    "        z = h.dot(self.fcl2) + self.b2#[np.newaxis, ...]\n",
    "        z = softmax(z)\n",
    "        return z\n",
    "    \n",
    "    def backprop(self, y_pred, y_true):\n",
    "        dz = y_pred - y_true\n",
    "        if len(dz.shape) > 2:\n",
    "            dz = np.squeeze(dz)\n",
    "        batch_size = dz.shape[0]\n",
    "        db_2 = np.mean(dz, axis=0)\n",
    "        dW_2 = self.h.T.dot(dz) / batch_size\n",
    "        dh_masked = self.M * (dz.dot(self.W_2.T))\n",
    "        db_1 = dh_masked / batch_size\n",
    "        dW_1 = self.X.T.dot(dh_masked) / batch_size\n",
    "        self.update_weights(dW_1, db_1, dW_2, db_2)\n",
    "        \n",
    "    def update_weights(self, dW_1, db_1, dW_2, db_2):\n",
    "        self.fcl1 = self.fcl1 - self.lr * dW_1\n",
    "        self.b1 = self.b1 - self.lr * db_1\n",
    "        self.fcl2 = self.fcl2 - self.lr * dW_2\n",
    "        self.b2 = self.b2 - self.lr * db_2\n",
    "        \n",
    "    def reset(self):\n",
    "        self.X = None\n",
    "        self.M = None\n",
    "        self.h = None\n",
    "        self.W_2 = None        \n",
    "        "
   ]
  },
  {
   "cell_type": "markdown",
   "id": "0e510c23",
   "metadata": {},
   "source": [
    "Теперь можем попробовать обучить нашу модель на случайном батче"
   ]
  },
  {
   "cell_type": "code",
   "execution_count": 176,
   "id": "3133e8f3",
   "metadata": {},
   "outputs": [],
   "source": [
    "X = X.to_numpy()"
   ]
  },
  {
   "cell_type": "code",
   "execution_count": 177,
   "id": "5e8de976",
   "metadata": {},
   "outputs": [],
   "source": [
    "from sklearn.model_selection import train_test_split"
   ]
  },
  {
   "cell_type": "code",
   "execution_count": 178,
   "id": "1e395ac3",
   "metadata": {},
   "outputs": [],
   "source": [
    "X_train, X_test, y_train, y_test = train_test_split(X, y, test_size=0.2, random_state=0)"
   ]
  },
  {
   "cell_type": "code",
   "execution_count": 179,
   "id": "aa5bc73e",
   "metadata": {},
   "outputs": [],
   "source": [
    "np.random.seed(0)\n",
    "def get_batches(X, y, batch_size):\n",
    "    n_samples = X.shape[0]\n",
    "    indices = np.arange(n_samples)\n",
    "    np.random.shuffle(indices)\n",
    "    \n",
    "    for start_idx in range(0, n_samples, batch_size):\n",
    "        end_idx = min(start_idx + batch_size, n_samples)\n",
    "        batch_indices = indices[start_idx:end_idx]\n",
    "        yield X[batch_indices], y[batch_indices]"
   ]
  },
  {
   "cell_type": "code",
   "execution_count": 180,
   "id": "e744abaa",
   "metadata": {},
   "outputs": [],
   "source": [
    "from tqdm import tqdm"
   ]
  },
  {
   "cell_type": "code",
   "execution_count": 181,
   "id": "0f28c95c",
   "metadata": {},
   "outputs": [
    {
     "name": "stderr",
     "output_type": "stream",
     "text": [
      "1750it [00:01, 1422.86it/s]\n"
     ]
    }
   ],
   "source": [
    "batch_size = 32\n",
    "cls = Classifier(input_size=X.shape[1], k = 20, output_size=10)\n",
    "train_loss = []\n",
    "test_loss = []\n",
    "for X_batch, y_batch in tqdm(get_batches(X_train, y_train, batch_size)):\n",
    "    y_pred = cls.forward(X_batch)\n",
    "    train_loss.append(loss(y_pred, y_batch))\n",
    "    # test_loss.append(loss(cls.forward(X_test, train=False), y_test))\n",
    "    cls.backprop(y_pred, y_batch)\n"
   ]
  },
  {
   "cell_type": "code",
   "execution_count": 182,
   "id": "d938445a",
   "metadata": {},
   "outputs": [
    {
     "data": {
      "image/png": "[encoded data removed]",
      "text/plain": [
       "<Figure size 640x480 with 1 Axes>"
      ]
     },
     "metadata": {},
     "output_type": "display_data"
    }
   ],
   "source": [
    "import matplotlib.pyplot as plt\n",
    "\n",
    "plt.plot(np.arange(len(train_loss)), train_loss, label='train')\n",
    "plt.plot(np.arange(len(test_loss)), test_loss, label='test')\n",
    "plt.legend()\n",
    "plt.show()"
   ]
  },
  {
   "cell_type": "code",
   "execution_count": 183,
   "id": "5f540d98",
   "metadata": {},
   "outputs": [
    {
     "name": "stdout",
     "output_type": "stream",
     "text": [
      "[25.040612886310342, 20.72326583694666, 22.45020465669213, 20.72326583694666, 25.04061288631034, 25.04061288631034, 20.72326583694666, 24.177143476437603, 24.177143476437603, 20.72326583694666, 22.45020465669213, 22.450205294362398, 24.177143476437603, 20.72326583694666, 21.33578840210197, 22.04266651322308, 21.586735246819394, 18.132857607328454, 20.72326583694666, 18.99632701720119, 19.43525279268023, 19.648976159352518, 18.58111617441054, 18.132857607328454, 24.628859387696053, 19.859796427073924, 18.99632701720119, 20.77555244856068, 21.658473484184167, 20.442124553424136, 18.066920122425703, 19.97330083487052, 15.964649964307055, 20.221273878048745, 15.034057262622296, 11.381727203694991, 21.026533123142535, 19.859796432761296, 15.211883045402892, 17.26953421381159, 17.241315214029242, 18.452957647466757, 17.91726169903298, 18.783673509615795, 23.464998949958122, 19.30227389547965, 18.374977368587466, 16.37853817122754, 12.701506527739603, 16.82335080992283, 16.793912292511948, 17.666929618497846, 19.64758120902396, 15.051076368751145, 19.991145953797464, 14.261375120619968, 17.42004614431694, 12.085363340298992, 12.406606447630526, 17.447982851567087, 14.278912866814732, 15.897996637187948, 16.54693599435751, 11.96775235657164, 17.675079769039627, 14.109991596673488, 18.797202487825828, 18.267534007840553, 15.778888960651951, 15.889870838767418, 16.527667088647945, 14.837366825531307, 16.620530721159145, 14.790551147663798, 11.84577288374773, 14.550607405865419, 14.779326292107381, 14.553628454365983, 13.862527111895503, 14.691793554609216, 14.870144844019604, 11.368772214256895, 12.323348563792038, 10.724069144656102, 11.072022644862242, 13.045244373278292, 17.85112442877392, 11.932602175147546, 16.756330921205844, 10.033680709531339, 10.053400230381929, 10.130687071512632, 12.440338416112347, 8.870923473963343, 14.06436044701417, 11.938976220892652, 13.099388128302863, 11.835574997031824, 12.742647370763446, 8.536059128678833, 9.402711167781428, 10.475831292577165, 11.370128306165197, 13.294232566224352, 13.759315299185662, 13.583307056040027, 12.22193888357249, 10.381869045067493, 10.610196286035658, 13.254068876854411, 12.100711425742661, 14.752226360666981, 10.877873456525407, 7.87057916149855, 8.834126283162396, 6.821003159914708, 9.624325137930176, 10.031600911717, 9.12370377205457, 9.50349034851388, 11.679129859890235, 11.564647513473155, 9.498782172439423, 8.997020397410473, 15.40736818789547, 6.8051957593251515, 15.23036167844117, 11.9327412277716, 11.966393502147788, 8.984123307582257, 11.722136890298216, 9.5754008334569, 12.669738708922377, 7.483747034149143, 10.86343083363283, 15.250622628665878, 8.012101055029223, 11.885085274642663, 9.51902989809016, 12.017875420226204, 10.612671189482988, 12.64570753599395, 10.42685101073793, 10.489528005938944, 6.017791554868678, 9.192855377394668, 7.924993472234602, 11.282301728763077, 10.905814612669973, 8.658408372379194, 10.31312642448204, 6.397848768212633, 10.426582108747105, 8.21016824016895, 10.05938480189687, 14.254163326584067, 9.842514029043436, 10.24016731941694, 10.210530821556688, 9.39174767689765, 11.246776674925027, 8.798721267261001, 10.98276749290019, 10.907219861285824, 6.876119690693793, 12.543267969479912, 13.448758789843449, 9.261744100272786, 11.371396146442468, 8.630772842233702, 10.086694817041511, 8.610524921666375, 11.502639363396352, 7.107140953621952, 9.68847069100995, 8.411815579335485, 8.602446414790514, 8.079517817204136, 9.458092271770337, 8.925881468276247, 15.728825105605846, 7.3860103357367715, 5.259003021473414, 10.708151233574132, 9.13434569346214, 6.812606625970881, 7.495299308382775, 8.885400690113183, 4.492267981817564, 9.452242941437305, 10.172587285998056, 10.470949500702407, 8.598764473548009, 10.76429560444559, 8.605960087842934, 5.6801916540011215, 7.907839029819819, 11.792415740844415, 6.8759471489822275, 9.842895451932634, 4.68483564677924, 6.400681912407237, 9.22297297207213, 7.8368013551870686, 4.368862293730763, 7.1163777158688495, 5.9744858586056955, 8.339805774453339, 7.006052158032025, 8.03343178457084, 8.475818446451635, 9.944826277945339, 6.8113546978897705, 11.151739306038186, 8.60844109652262, 6.400277356838288, 9.276478378506342, 6.187607912932926, 8.778985257635622, 5.5544590198080614, 6.6814235261858546, 7.064280178497599, 10.455460638181119, 9.009423621156536, 4.688214565655175, 9.953011393123182, 8.481704586857585, 8.301820570673593, 4.742556278041389, 7.6941739322206875, 12.82495042936493, 8.213252265594157, 7.843692972410276, 8.50634286972928, 5.760396539612296, 8.125582622039463, 9.194094551242241, 7.788062063974517, 9.943851993782332, 8.327483762557883, 7.194915281407852, 5.490517740618943, 2.5246226589056215, 7.119693222697159, 3.6608083221845957, 5.964946239495643, 7.880636048755174, 7.327820332278959, 7.169044671929234, 6.519482977055382, 5.229069736428368, 7.5205106544234015, 6.037015287216198, 8.82135257367796, 8.374552451484174, 6.028557061273647, 5.896880441043229, 8.217289576103521, 10.346364022362946, 7.083183400824579, 5.7218430717343445, 9.66624738325066, 9.369253428000185, 8.417460152851245, 7.565618351499452, 8.99099640888937, 5.098469306716112, 3.6372426381623573, 7.589932439665374, 8.946174947123605, 6.940415875652734, 7.641044975590418, 5.040754658934503, 8.213453302549528, 7.644217667289988, 10.360986060680805, 4.233954991819106, 7.924250065109203, 7.341087433791818, 7.692829664267686, 7.118078903677447, 3.4816519857205526, 3.1592073831569794, 4.99966039333578, 8.240022126503785, 4.668440809160276, 8.585765411726637, 8.332336398030314, 5.6387661632078245, 7.355414903508465, 4.410791603106902, 5.629222590012894, 5.751549341719539, 10.321181761012072, 7.381935157018499, 7.703481430450574, 9.731737034620629, 8.360205754399743, 7.816909151959888, 7.701523092589328, 4.7282518019428315, 8.200196665090553, 8.487588454213746, 6.947045137428134, 6.154582281531999, 4.593140848717038, 4.608757537565335, 4.773386810273879, 8.483804940532911, 7.666280903925688, 4.4944991700835155, 6.012978472071577, 7.169567704135688, 6.22672403686033, 10.643882443917766, 10.149980493582827, 7.31187482808863, 5.130916086096655, 4.059624459571406, 5.799891649197835, 8.717472975295543, 4.420913745229877, 3.995744343398372, 8.850523239648858, 6.401582961852162, 4.166451410091, 6.4250290779890324, 3.253229829703324, 5.852064968443701, 6.600977103517188, 5.774909097722913, 4.158514170521757, 7.108646151334314, 5.6281563977401285, 5.614824013135898, 7.8246268851044345, 6.624323090508777, 3.9712336675922506, 7.135322627875427, 4.71575281350378, 6.374669555211492, 5.4417027265958735, 8.475860779204035, 6.287791055530607, 5.176795582021656, 4.9991302078400235, 6.160710522577843, 4.95952348815642, 4.467705062248107, 6.87699011026063, 4.958477222607636, 8.677503915535453, 4.476100380576636, 4.852872234096097, 4.93142588264796, 7.384026073543474, 5.826366281182969, 7.338124036818858, 4.27929268191661, 8.511683895880969, 4.020836604580689, 5.4987802288461625, 2.7546845050120177, 6.062932066263861, 5.858836848804472, 5.405511814827048, 2.7364607786587283, 5.569216050456631, 5.793908762625454, 6.859133722450622, 5.796802969097459, 6.472829000551637, 4.395169305216988, 4.88339575150646, 5.969042884762912, 5.709355545632679, 5.328160853901655, 6.751353148901004, 3.8383095349198406, 5.999947087804222, 4.120877717808836, 6.478702968128125, 5.470354570450194, 4.061248376851602, 5.286992093859179, 4.83443004206509, 4.3950754005764665, 5.252384228330404, 4.1281562876501905, 5.415894269027833, 5.180091592357131, 5.350648884393998, 4.116993743379413, 3.141832137186632, 6.200594529551812, 4.69579833346222, 4.674602360293564, 6.489076308478068, 3.841944962924307, 6.553076119672898, 6.917352144395266, 5.198190179849426, 5.432515705331662, 8.470546071099827, 5.943686075123175, 5.343237048851426, 5.738091635359048, 6.299215448005448, 3.333333589403478, 2.6549906209027183, 3.8908506563774603, 4.962016691059461, 6.041068091030081, 5.932815364577646, 7.073040831328186, 4.428625875144018, 6.8255695977687845, 5.088479656867682, 4.996412755539, 8.405130333069405, 5.633484524618697, 4.586411441188904, 5.822608041152369, 5.045440996763475, 4.149545638107996, 7.6115038286940875, 4.369146323729148, 5.703767558533329, 3.293989812919981, 7.318062096922995, 5.321510386092601, 5.739474785206943, 5.93718690216909, 6.075339047335418, 5.762346300369587, 5.7031415607489535, 6.343567243287433, 2.8364939196044174, 4.398136416237581, 3.5413336759902543, 4.474524763828343, 8.05408211015496, 5.878139692385798, 3.8622836475642597, 4.9244464204934095, 4.0159534195157125, 3.23934307092199, 6.970961649858646, 5.45405671318459, 5.216080562850157, 4.687460962035468, 3.667761597709435, 7.968133694754115, 3.23189182216388, 4.287023355412243, 5.3357510809659665, 6.510335934422988, 3.3501847438290024, 5.1049431783392585, 5.194489574269988, 5.120580376818696, 3.9101495340040655, 6.957870013323294, 4.928939767665837, 3.0254614899890786, 6.727304677591031, 4.847575660009394, 4.57295728641329, 5.276885392645496, 5.524413503966646, 5.012993463857908, 3.6778025983273617, 4.838431380164702, 6.230015075325946, 6.959285772302444, 3.537211318402723, 3.2830816003949312, 5.778239243213582, 4.384442215825915, 4.939786864182745, 3.8951891015350095, 5.287919636055109, 5.111321944047592, 3.8838011868865854, 4.864022532444823, 5.919252380035231, 4.4775492218045425, 4.283982194763151, 6.257820486745338, 6.772735354229541, 4.444753293934443, 4.220534694017132, 7.244296745048612, 4.334072135669608, 5.8753968198716295, 4.864125147818569, 4.150106686148051, 5.904959864320128, 5.020625364717394, 3.722693923804907, 3.8366065601839408, 3.6655985182499724, 4.6344803418954506, 3.883780066082664, 5.8480189342154745, 4.344899470435636, 4.738587802279781, 5.5699258345604115, 5.199722612374067, 3.1916824759779048, 3.121550892385462, 3.8898247570406355, 5.0009801059183205, 5.942282021796531, 3.4121187115171265, 6.803711642621183, 5.186228839977091, 3.8811499695031677, 4.749590379982721, 4.474164403101076, 2.832866161556172, 3.123876398659011, 3.9864215668137577, 4.263254407647806, 6.119987962839119, 3.891834444899688, 4.165204636460826, 3.1688131634014307, 3.500311848070056, 4.174588070249707, 4.110857652350967, 4.693402149424308, 5.137874377371505, 3.850760405211306, 5.107172167521447, 3.8308403053497146, 4.506081262235165, 4.661679304341353, 4.671670571580343, 4.992129560163371, 6.142798133759287, 6.352714433805575, 5.235767538964597, 3.628362985116246, 4.690719727947474, 4.6073440226540265, 6.249707533282077, 5.712275006696327, 5.07325256598635, 5.233512069721965, 5.340296505292195, 8.523052406358739, 8.411457029808453, 6.164990696801561, 6.5507679717513145, 4.956990612941555, 4.1917097865370465, 5.042973217629538, 4.765353051382201, 6.551146291389287, 4.816756664019172, 4.319176307902103, 5.334545404933655, 4.500296025133508, 2.3064266386909633, 6.449611112660504, 6.197497683947534, 3.2793583100649677, 3.209904294392286, 5.093602516614164, 5.160275387401194, 5.845661001977488, 4.315838563909749, 4.965198417158604, 6.9981311464967835, 5.013304462601139, 2.206387842275586, 5.312391548077446, 2.613380474357685, 3.519529833799294, 5.70203608139493, 4.33369677587701, 2.3227739725056904, 3.6506906384202473, 3.7761520240331263, 3.101304504709587, 3.811954080653008, 4.573190092454656, 4.733908625151589, 4.505212449299122, 3.9665048679476866, 3.7529742141245714, 5.8918773207155635, 6.71929467078612, 6.266392728330471, 3.5797518573853977, 4.523338062731765, 4.74410544263157, 4.766409716400191, 4.637457684250108, 5.511470568347423, 4.121307014558398, 3.537934941734795, 4.4113031773446725, 3.0043019964135986, 4.281318297269732, 3.4168497361393184, 4.194700547710368, 3.9613086849726855, 4.482735097076689, 3.8007085238503047, 5.61974437004919, 5.5329753144804865, 4.973149540842002, 4.166726696557644, 7.2839752919764855, 3.101293234988584, 4.016042742394986, 3.14106583048866, 3.5182221047859046, 6.152993706624144, 6.947548578049478, 4.685606031268196, 5.121629569216253, 6.5720316912432, 3.4432756867237897, 2.335091286442661, 4.643220596383881, 4.9614013965031525, 4.097529939496055, 3.9394023726578533, 3.8301672460250584, 5.837274315171685, 5.281138623540921, 4.483598012786745, 6.858411610297023, 3.700161509253908, 3.870419597651849, 5.3370557948702775, 3.8698608134636396, 4.229252117262598, 5.944244564660805, 5.452784120685891, 4.932839763451945, 2.5917537228491376, 3.607715442835307, 3.340425002081812, 3.4716403534299753, 4.3322739940927875, 3.401241905505886, 2.7624248394374478, 7.504142773428075, 4.729542212923296, 4.590585140710485, 2.8253370693061917, 5.270309961868993, 6.448949963723999, 3.598870289876233, 4.6152932683389345, 2.5346841104989393, 3.184547622850241, 4.2030739079043915, 3.756118527434815, 3.7415706181352046, 3.8608695513604996, 4.213047136342994, 3.0448886491089944, 2.6518120259540883, 3.891552474165838, 4.332598312436671, 4.844964577800253, 4.545133796279327, 5.449470212451595, 5.867623306577343, 3.7961121589931235, 6.156210222893261, 3.168225481974759, 3.1618933399518534, 4.772340671339428, 2.830031194416505, 6.458276654678622, 5.211233010562498, 5.575308393869159, 4.431617313340356, 4.064566656595697, 6.592043811811947, 3.3780999755263323, 4.739242573964496, 2.9903836079552084, 4.391841358719029, 4.705248754373515, 2.71017212295774, 4.1689405550942835, 3.6347656204689596, 3.128539670097048, 3.266767472863709, 4.168526665972657, 4.969790771007691, 4.912831717911162, 4.205891526110382, 4.6612767532154376, 4.004827262395638, 3.5261486969066658, 5.223653020535087, 5.346978269021882, 3.23404574086128, 2.48898877292671, 3.633464619691981, 2.3260815335552447, 3.0540662393681446, 5.103039676335671, 2.494236851005489, 5.788793634896458, 5.140895240294677, 5.550518452970162, 2.537263850311807, 6.139461084092118, 4.506765806976048, 4.3627948521281725, 3.69792868820866, 2.6301503240355535, 3.4739628549540873, 4.434143057196223, 4.64767735061578, 3.0532272803148848, 4.0421516048790185, 2.290462397609239, 3.250956729645293, 2.7740626200266814, 2.913117279441793, 5.118286597139628, 5.2669445725246975, 5.518219509690258, 4.168907773933278, 4.725284345037937, 3.0296997420524745, 5.079835397856001, 3.041320327085944, 5.149375664119665, 3.931261677710108, 3.196198145249798, 4.940989633425627, 3.198974423016381, 2.6656283777448966, 3.2081578406595552, 3.547164689236574, 3.628236568291203, 2.946598353759461, 3.897554400859491, 2.474040867787028, 4.230903247506218, 4.391596667821572, 1.9818407428867424, 2.638856505777476, 2.9430700777846215, 5.870887691077046, 4.658060455552893, 4.56830057270917, 4.5904342469848345, 2.4840594950724184, 5.837151158990993, 2.233336047567093, 3.6549555281737227, 4.04667867010091, 3.889909718532838, 3.1324313071690133, 4.22550506238085, 3.8142105314455756, 4.731466807114234, 6.558794280738786, 2.2221198994775877, 4.775910917136396, 3.9869780541892554, 2.6115697991924853, 3.5458157740032825, 4.632659614093374, 3.5664803677697168, 4.012275682157356, 3.8203219933177106, 2.737739875467781, 3.369133586386062, 4.754541648693352, 3.2975770067345485, 5.15916605179397, 4.410475288028264, 3.096638774731884, 3.3333759361415805, 2.9070491289085045, 5.374029317444745, 4.228790289680044, 2.7674186807186674, 6.67534947776224, 3.6365054135311863, 4.689610357459895, 4.033491771407616, 4.499972644527656, 3.138016905487576, 3.2145271970949327, 3.090622052117016, 3.7231931488298584, 4.155646755612364, 4.322641951580396, 3.3592593310265624, 4.556877926434619, 3.416020070722043, 3.890682783964392, 2.4336264808521064, 5.645611228663665, 2.8147828215903274, 4.520277538514581, 3.38794090174249, 4.577887640599033, 3.956888422019081, 4.564252449891098, 5.22388104895544, 5.899307067984141, 3.5192813935847176, 4.559072015561115, 5.122015479234795, 6.546064851006038, 3.1762628070211925, 3.996068296807235, 4.23567522022889, 3.2497704936902463, 6.120139285235477, 2.95529112527399, 2.4976131165279924, 2.880948848478265, 3.076527256123918, 4.5749823838315, 4.7784300690230985, 3.61480282772252, 3.125837502067549, 4.039313886996064, 2.394543150691818, 4.330026579065953, 3.398364378614164, 6.650510484888642, 4.849739138302632, 4.424970243274433, 4.895529776868204, 6.383272090092058, 5.960511181714221, 4.748558298324379, 4.0491194634308885, 4.672152092739956, 2.8636978756139118, 3.6336327604701273, 3.4437543725743263, 6.092965493088858, 3.3884104659513747, 5.257097004578632, 6.153655694325963, 3.517719072032238, 3.211798136895538, 4.977730438495292, 4.162817173199093, 2.9535262697384574, 6.075040496346625, 4.971941072671044, 2.4003210952998906, 5.422350425289382, 2.8471050692690607, 3.6686937293288686, 2.541057538468409, 3.872321729345996, 2.690402033565932, 4.54159295142368, 4.80074867402176, 4.340318729597869, 4.015586164937809, 4.425987252292651, 3.1352819136351697, 3.429856787059322, 3.908872720150132, 5.211201114574539, 7.605811251601433, 4.153206938055111, 3.8790808124587954, 5.70372575823472, 6.17267088802881, 4.603359422345726, 2.6239762790859618, 3.3167991148009017, 3.5469056176663516, 5.827298780546903, 3.691331338675898, 2.4254682405551184, 3.9398970641821593, 4.279964325188136, 3.752245535461509, 2.335408349311703, 3.408664243966661, 3.1856008603158505, 3.0016533155625416, 4.144478527119624, 3.7393100042561085, 3.0740937534487633, 4.0201265971738005, 2.988341169121829, 4.30845313829793, 4.231484554159785, 2.799812530470482, 4.110963495021257, 4.329382210542098, 3.6080217890003374, 3.8427010783514683, 3.246859749028366, 2.962563703601602, 3.726013294662745, 4.410148305503749, 2.7862604423761055, 3.436282327754551, 4.267041690109225, 5.872413191000035, 2.9334614318569368, 5.507329639386688, 5.192921254253754, 6.26653834676981, 4.198341312910434, 3.7119530784277535, 4.160674889490423, 2.8490259341760122, 2.0498679453776845, 6.055745568455752, 4.288096866124212, 2.992094714866379, 3.938881071387979, 4.01013447293486, 2.9050186638188986, 4.757032806989656, 4.200835455265077, 3.845118222487976, 2.6923147233765987, 4.004416456042662, 3.364955759994956, 3.10112218325262, 4.652216759165391, 4.971042593359867, 3.413176730170532, 4.9478930826311585, 4.044184130348963, 3.0069806081447474, 2.4369115132916086, 3.8204586147375394, 3.5065916292879304, 3.8889644400266574, 2.8105289896604786, 6.815553135005551, 3.6989708759551725, 2.863290301083847, 2.540728320951519, 4.108562815703595, 2.555119800094249, 3.783251513997713, 5.448825227287444, 2.9338166545001685, 5.067678236408828, 3.495244823578354, 3.25955605153946, 2.973403453226112, 4.684043755676037, 5.348199912788084, 3.6529925308361033, 5.399921010909109, 3.577514157281814, 2.9249536444453996, 6.435329048758389, 3.369034767936153, 3.252176545449129, 4.181712606015212, 4.570549593907103, 2.775757918510574, 3.9145531446063067, 4.1490620287482844, 4.752628339864936, 3.5895375735210737, 3.5497153066835314, 3.598086611071183, 3.1366087994972767, 3.5183585857249176, 3.105715079270909, 3.6874189919974993, 4.107125189700985, 2.802847831881542, 3.79316223824686, 2.6441838460683647, 5.281673527232714, 2.912158000262744, 4.03545073342032, 2.706698147330062, 3.8735446560160707, 4.04325635661621, 2.843372776368132, 3.5491268374679033, 3.635475877149283, 5.943130295763769, 4.371549898334834, 4.368965054636723, 3.902933759166657, 4.721218623084198, 3.977399661615075, 2.740933051888195, 3.5860042390505047, 4.382731018240092, 2.14879238759779, 2.977675019365746, 2.3039229940507604, 3.030232604189692, 4.425059046730288, 3.6181859331373607, 4.6122283078982065, 3.4427037299085024, 3.252769424655129, 3.14715042830232, 4.566596863615045, 2.6445019791248265, 3.6953950979919714, 3.252088603311816, 4.0620695270770515, 2.6490689162018293, 3.8821569059711036, 4.5796181729980985, 3.5556643353951807, 3.74675281715531, 4.013171234470919, 3.7982228656909474, 3.0416831192216494, 3.8136349198237185, 5.28098703167376, 3.9413290605527536, 4.788954748651615, 2.1629321654271996, 4.347476040456648, 3.8097249147550127, 2.375422484279266, 3.319531384958683, 3.0522909433445617, 3.123772483460762, 3.088565399797105, 4.468529687775438, 5.692567947980256, 6.586951418439682, 4.062717109021769, 4.0840255646543415, 5.422338740474764, 4.633363679198362, 2.5383328699391488, 4.341616391296564, 5.045128775155355, 2.634857892886745, 3.0904763948493654, 4.36175751882083, 3.858654199118404, 3.266227592587906, 4.927227067669321, 4.861396872855191, 2.3750119956000435, 2.715964815015119, 4.6822518421769725, 2.316946334723927, 4.570451347649905, 2.5293551144641904, 3.7876880333480045, 3.8202418333363473, 3.9609199292329955, 3.188920258642186, 3.111986622837818, 4.5454258951831035, 3.2746423826930564, 3.163965440417992, 4.36263400879221, 3.4383267474634653, 3.8631212466197034, 2.3805056587906637, 3.603329860264749, 4.640047402261436, 4.086314348521414, 2.663453555217223, 3.4730891897044116, 4.404545581043912, 3.0854382428456777, 2.7055496529593555, 4.281313471673927, 3.285220368797456, 3.4397862196423143, 4.216958956944228, 4.247900518218657, 4.024022108105642, 3.623299550635906, 4.125190306480411, 4.533164633375083, 4.2208056717728315, 2.615929005650412, 3.9138666767533428, 3.1825521506767713, 3.835580979439346, 3.5978024011234577, 3.0820481435903746, 4.1683727519047995, 4.593606328141538, 3.2218132339874357, 2.1998705981998437, 2.8595601162125828, 4.386974849092708, 5.685047839143569, 2.993415432596075, 3.3467113553546497, 3.9789090622258483, 3.1993307250985703, 4.103545950993441, 3.2113637931620347, 4.327252679864012, 4.353440842531704, 3.967274630998372, 3.1504549244394475, 2.9231486704017176, 4.29333093778023, 2.827872979430297, 2.379198626741796, 6.009557884626425, 4.038273645982354, 2.422918100089115, 3.7838677105577685, 3.099815523308931, 3.0060782461106577, 2.9667085189436184, 3.5538752554141184, 3.1431763795737124, 2.532121075303839, 2.949292790877798, 3.448267904727839, 3.086283066700952, 3.367605141437698, 6.53890356717453, 2.31459015769158, 4.381998481714158, 3.799419548348906, 4.6029918513499455, 4.638054684517387, 3.430968840004657, 4.002478603368946, 3.624547147990182, 2.521502441449088, 2.6666874652017842, 3.5540634216221516, 5.645331067434735, 2.576992888386701, 2.840811093571471, 3.7251104456957265, 3.3198524500426116, 4.2303736974147945, 2.17358405485023, 2.9891154495056846, 2.8327988325621374, 3.751179342043759, 4.635980647324933, 2.9907710536254823, 4.128824140308485, 4.177527287470837, 2.5472176953009225, 4.965039705207541, 3.8856387078227947, 3.9063227107110867, 3.9817027348236014, 3.8477018368390565, 3.5076109903624775, 3.516514080213306, 3.8832799029965677, 3.2903051352619173, 3.591754582617405, 2.719846180544627, 3.456229057795535, 4.170835143236552, 3.648982645205607, 2.634013412553792, 3.3210173890701657, 3.046153606424787, 3.1056809408090986, 2.171540852268161, 3.7806990512912635, 3.3062814648853114, 3.198418993338923, 3.887414151528597, 2.4237774811973374, 4.531918070663284, 2.6866757066538636, 4.427315690307896, 4.190518409607201, 2.974667192351946, 3.7989652244082577, 2.689554927965241, 4.117703972744476, 3.182049369945555, 3.063769018350029, 2.139809763355392, 4.16501403959028, 2.713301245574715, 3.8577119074623054, 4.350054226359144, 4.118335208131286, 3.3583732687587426, 5.1805370723928785, 3.5980238819521135, 2.411621398988629, 2.399065644143592, 3.9108054731561994, 3.160205904571497, 4.349129589376403, 3.7044420656931796, 3.6629210370135663, 4.0613323491737, 2.4722609803175826, 2.619322325758979, 3.1260505632447915, 5.65686829548442, 3.720275319120808, 4.483854025879581, 5.107739384155224, 2.656549398947235, 5.872625608281345, 3.9046089907717123, 3.017614034305735, 3.598161996576944, 4.255507377207213, 4.710903252310952, 2.5353364717672267, 4.541900939726172, 3.378925782838718, 2.3078238025851423, 3.9993377049774588, 2.2598929323456813, 2.6507069358921918, 2.788795612646275, 3.954847762766426, 2.858784486004943, 3.9333528635855775, 3.075694472901356, 4.4639064902418895, 5.083065811663004, 2.6106216584773367, 2.9645361445917033, 3.6418566851708865, 2.521342939555799, 2.9435697505647678, 2.5052952884272743, 4.76562584276365, 2.852081047027952, 3.036102613181087, 5.157861505106968, 4.393814434162645, 3.226877221663533, 3.53588535741102, 4.368721144912749, 3.7511530786602414, 3.8855987304775788, 3.753614828708688, 3.6072355577402933, 3.920034250407079, 4.60210040442796, 3.8905902999908077, 2.419476248444505, 3.459662953563258, 5.089949351683822, 2.4448501716761903, 3.7707114655599794, 2.905326061561854, 3.1692841349911216, 2.544619331258054, 3.6372119319035345, 2.343908316308994, 3.062932455509919, 4.652636225651248, 2.444643102350036, 2.614729547750981, 3.8336089661179535, 3.3088162911052272, 3.2853872220361167, 4.365416194038534, 3.4840776920729195, 3.4998844205848942, 3.641063610759144, 3.7346211922102985, 4.863621444106446, 3.181171744381362, 3.6421552665312933, 3.1187823612443974, 3.808911324173567, 3.668499363478408, 4.171711993381955, 3.174081195163432, 4.698063941278164, 3.4879485324744754, 3.5093935008443924, 3.4956303579557866, 5.507352799790856, 5.428125340184446, 4.701123060348515, 3.843396952594257, 4.050219664673392, 4.401916063449331, 2.7136291250150246, 3.0514916964702774, 3.4781720727585537, 4.697479799048658, 3.8767242492712555, 2.406052259675471, 2.7774897467688757, 2.8687088506674865, 3.4912345887974015, 4.295091108034601, 3.8706221979950293, 3.1333155482464026, 3.3658952449405835, 3.091668152227875, 3.030404066822454, 4.122753334579649, 6.459118495373312, 3.4184829451516556, 3.2302362448086535, 3.1036980619724224, 3.9368075951844745, 2.9989047938440008, 5.19681179470325, 5.174967800207714, 3.7220736557944325, 3.7405087093412615, 3.4954416540568642, 3.0197545509812924, 4.849141437990449, 5.839173418056665, 2.6097143138544268, 3.543419707232666, 4.644229832359471, 3.5772159986082754, 2.5410908658223574, 5.082356212227633, 3.733390670325439, 4.565652995834857, 3.9286747130601283, 3.332065439626601, 3.3379110744933835, 3.5643540646380347, 5.290233815260033, 4.2473847784682315, 2.7250257262056063, 3.465494848316251, 3.4910534293592734, 3.9054057522043713, 4.99995929289817, 2.7192323498507154, 2.6849619908431976, 2.79088012717399, 2.8988604047807423, 4.144726355904708, 2.975303854317091, 2.640973235116782, 3.329345802470977, 3.0043190829056576, 2.4925735918794896, 4.169883062812439, 3.2530680922915147, 3.32666621085586, 4.589196416293937, 3.2085987900748534, 3.588073013998653, 3.7949343910341176, 2.1673472947740784, 3.8193542906623534, 2.984032163247522, 3.735842745545688, 3.173528177735495, 3.0003660499217357, 2.696197855570688, 4.334572584564981, 3.218565577048726, 2.9939309062860486, 2.6497327066825798, 4.560951555157513, 3.4471088772922998, 3.439665318495999, 4.389397164945179, 2.9968164925487755, 4.0463851482739335, 3.84579605714426, 3.7829142095035073, 3.3847737338002717, 3.217041180608216, 3.0717339202980445, 3.7636760712575668, 3.5412092502553802, 4.973005767782462, 3.0787671223598165, 4.588190462657844, 4.3586490698001406, 2.1641141224152634, 2.9818501877464882, 2.598015944215554, 3.1420578078558323, 3.766085351850875, 4.830769253812006, 4.0616093359604655, 2.6768390662705546, 4.123209730306006, 2.480848332531786, 4.025912115946287, 3.9338376932842407, 3.4597358023679217, 2.3930610969806096, 2.6025684612763715, 3.8927130627179705, 4.117091620302443, 2.592767682057238, 2.7450134748487267, 3.128156961994764, 3.3663827510010083, 3.0010863684302462, 3.4034916383565417, 3.7665554674492814, 2.4732657726942335, 4.3350635530398325, 4.845558106617309, 5.590818941145674, 3.920607896618648, 4.198673332705301, 2.5171397102884185, 2.3559854415559167, 3.4209359267748987, 3.8831548107169183, 3.9370517069565656, 3.3445956309260074, 4.1813775524594945, 3.3862797333840717, 4.114013388984752, 4.446647445696218, 4.3649591406720525, 3.3455994349062688, 2.684563671842967, 3.045810393339335, 3.3388335524981945, 3.7015236118994173, 3.3381190621869345, 4.178446729410235, 3.3533547990947947, 4.236556583624627, 4.901948612146697, 3.273393820572626, 3.1117856107189743, 2.6860951231200385, 3.7898969111481238, 4.879084492247318, 2.851465347303792, 3.510427455084262, 3.699878537443001, 3.4325544794678877, 3.2621695171403315, 2.7434728203448637, 3.242067650903925, 5.499683374898277, 4.150056981994144, 3.3978177855322445, 3.066319429432684, 2.3198433146888955, 3.287540344948868, 3.6816499102154694, 4.104310614564833, 3.30732809649514, 2.714942522337865, 3.450280766614915, 3.526983445108792, 3.6647129693130607, 3.902973931022631, 4.123479162782525, 2.271893214962434, 3.1611447444167506, 3.279944193447416, 3.7955397245362175, 2.868373539655633, 2.94027817806556, 2.9166100833809674, 3.1442187288604684, 3.9111659226643023, 4.26787408127058, 3.215703796197421, 3.2953147461854826, 2.8952969925180683, 5.722101282803143, 4.219802528981534, 4.691337520275139, 3.851335559077719, 4.078277386173108, 5.0964989800968485, 4.7080349220351465, 4.408905330215226, 3.4358230536515424, 3.3738060879757104, 2.2567862221541626, 3.4752360645326643, 3.3154001195438627, 3.396704052477829, 2.5086602704504766, 4.639089573676063, 3.3984107224493334, 2.576917841686013, 3.7042387369996064, 4.383113268650164, 4.546332501293852, 4.570806710362522, 2.274930216440773, 2.382291351257752, 2.6826807394412273, 3.045361531171946, 3.947255681230365, 2.310270962539205, 3.052735430539456, 3.083943740154, 6.163053451821932, 4.008521471211271, 3.3441811293444124, 2.7180508379870245, 3.0659311189996816, 4.124249039616361, 2.8400981732321045, 2.82664583321881, 3.125069513974192, 2.9366293152188856, 3.6774946823739634, 4.3472248698474605, 2.9297371654723694, 3.903829092079161, 3.7258516880347488, 3.8516616435087974, 4.872289396634526, 5.378932459842631, 3.2491412865488103, 3.597125355865414, 2.731673373360755, 2.7512611420091924, 2.396392495987324, 4.060960250670123, 3.2495860420977576, 3.4607412517987175, 2.9901962941254436, 2.48626954734441, 2.5166009480937497, 2.8561552004865915, 2.739733857352328, 2.290631481831828, 2.242095358082987, 3.3019398677690335, 2.6307692810857324, 3.583916712988116, 3.064087194790434, 3.2760967231042484, 2.8978284813068322, 3.244295691408785, 3.0477620879090903, 3.893587733240939, 2.3052654134681, 3.5531429736673994, 3.227786990159491, 3.5433525812903466, 2.9716826909813063, 3.373907927263711, 2.7762630543292417, 2.260141494490935, 3.7553564696660837, 3.4530120012369854, 5.128596466925318, 3.4961641674485753, 4.960511092078476, 3.211098554434834, 2.63402765329828, 2.878258125411846, 4.164113261758143, 3.137861097369387, 2.728179246632145, 2.702285181456038, 3.188159531741344, 2.6765919645048024, 2.4941319938763833, 3.033059280085887, 4.659028254155135, 3.7099918786970134, 2.622898027018464, 2.4226758770860393, 2.8069521042759353, 3.3334037589174272, 2.7973506846880944, 3.158468782322035, 3.5680555057594714, 4.413933229458177, 3.653700572762924, 6.080415758349721, 3.321820868694713, 3.289996291658226, 3.3910295664353542, 3.1297378514970853, 3.529812855022625, 3.9042395600714244, 4.386493248221934, 2.230686524657303, 3.3747065833673524, 3.1419857591054265, 4.233025516236512, 2.644157620042429, 5.045094276413833, 2.3201046229475324, 3.925366722796836, 2.700527859937946, 3.1037965650645853, 3.3502603712941075, 3.9392703454003115, 2.5690596514159907, 3.1660444018852996, 2.4386822479317933, 3.027603593546357, 2.3152676497781313, 3.3144511550564495, 3.010891045451209, 3.305108671464004, 2.9215195439377273, 3.4206110396964697, 3.1572678074992577, 3.2609983582474698, 3.4118676364647014, 2.7716600264918023, 2.5614566916177366, 3.3963750882901325, 3.1434590379241163, 4.161953747840084, 2.8298684950036335, 3.6186043617726282, 3.210327748008986, 3.092018268330727, 3.463175033311859, 2.5166387990127816, 2.6113608085366082, 3.8098355268755775, 4.068863948799632, 2.5631118616364645, 4.376443373020088, 4.740635109128983, 4.470340081483817, 3.9981088575136683, 3.6040997799188736, 2.8087005990954026, 3.3266853961275036, 2.8762211391491346, 4.220521346745911, 4.972465981345322, 3.283988646663529, 4.259216256143464, 4.9958729790337735, 2.774325008521462, 3.7290563308127602, 3.7780380978764363, 2.858539572478887, 2.574981857134465, 3.261728892069656, 3.282141396313306, 3.905397096019893, 2.841646697122893, 4.505181741512237, 3.4485463552249938, 3.163469752824965, 2.8450784615169127, 2.9603969486148904, 2.9080962448421452, 2.2740775947358562, 2.674570974510904, 4.116156924705535, 2.6630251409003334, 2.137693607906245, 2.480841922265797, 3.409474245495737, 3.31565181277269, 2.456849005372235, 2.3775897129134633, 2.8201939163918297, 3.446383288193947, 2.974843881168585, 3.3360234852153328, 3.1309219060592373, 4.944855970760474, 4.453395212357497, 3.4594355183259387, 3.4502248467899888, 2.5361952269713015, 4.165776472259363, 4.987504335103376, 4.185628986291499, 3.4624986936572255, 2.4848690327987217, 4.276791024547153, 3.1290740044148344, 2.8437788329794005, 2.4628884290868536, 4.2589077412645215, 3.406989003888491, 5.011775329265339, 2.849161127828017, 3.4328655700142443, 3.305258068647473, 3.366335885102441, 3.1497632333746357, 2.489455096826715, 3.112213363095668, 3.1024939095099073, 2.748819182142116, 5.40280906822243, 3.0002251459095204, 3.5043005270060847, 3.287535525988208, 3.487012602073185, 2.70010782092157, 4.008695870512657, 2.5709763289870917, 2.3012766117456978, 3.907692046607081, 4.393055404024144, 4.8863227575290615, 3.966810830666029, 3.4407263858335972, 3.2679388523463864, 2.545715007453712, 3.1446434239057504, 2.804230123329882, 5.322651185016897, 4.025968304205355, 4.232281754016885, 4.761639756491792, 5.944655015318078, 2.4480394557957945, 4.382393297773343, 3.240395185186385, 3.490151189959061, 3.293900136410944, 3.2733933666624013, 3.0128285563309474, 3.171064402870307, 3.1631148741036053, 2.937309013678648, 2.3221721900077723, 2.8018802716135793, 2.682235506094433, 2.4879943686615604, 5.093293694982286, 2.536465618251225, 4.009645260181779]\n"
     ]
    }
   ],
   "source": [
    "print(train_loss)"
   ]
  }
 ],
 "metadata": {
  "kernelspec": {
   "display_name": "base",
   "language": "python",
   "name": "python3"
  },
  "language_info": {
   "codemirror_mode": {
    "name": "ipython",
    "version": 3
   },
   "file_extension": ".py",
   "mimetype": "text/x-python",
   "name": "python",
   "nbconvert_exporter": "python",
   "pygments_lexer": "ipython3",
   "version": "3.12.3"
  }
 },
 "nbformat": 4,
 "nbformat_minor": 5
}
